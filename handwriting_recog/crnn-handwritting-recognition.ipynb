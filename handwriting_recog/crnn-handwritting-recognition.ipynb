{
 "cells": [
  {
   "cell_type": "markdown",
   "metadata": {
    "papermill": {
     "duration": 0.024806,
     "end_time": "2024-11-20T16:26:15.646879",
     "exception": false,
     "start_time": "2024-11-20T16:26:15.622073",
     "status": "completed"
    },
    "tags": []
   },
   "source": [
    "# Imports"
   ]
  },
  {
   "cell_type": "code",
   "execution_count": null,
   "metadata": {
    "_cell_guid": "79c7e3d0-c299-4dcb-8224-4455121ee9b0",
    "_uuid": "d629ff2d2480ee46fbb7e2d37f6b5fab8052498a",
    "execution": {
     "iopub.execute_input": "2024-11-20T16:26:15.697696Z",
     "iopub.status.busy": "2024-11-20T16:26:15.696996Z",
     "iopub.status.idle": "2024-11-20T16:26:20.765176Z",
     "shell.execute_reply": "2024-11-20T16:26:20.764080Z",
     "shell.execute_reply.started": "2024-11-20T15:31:40.168687Z"
    },
    "papermill": {
     "duration": 5.094934,
     "end_time": "2024-11-20T16:26:20.765344",
     "exception": false,
     "start_time": "2024-11-20T16:26:15.670410",
     "status": "completed"
    },
    "tags": []
   },
   "outputs": [],
   "source": [
    "import os\n",
    "import cv2\n",
    "import pandas as pd\n",
    "import matplotlib.pyplot as plt\n",
    "import numpy as np\n",
    "import warnings\n",
    "import tensorflow as tf\n",
    "from tensorflow.keras.models import Model\n",
    "from tensorflow.keras import backend as K\n",
    "from tensorflow.keras.layers import (\n",
    "    Input, Conv2D, MaxPooling2D, Dense, Dropout,\n",
    "    BatchNormalization, Activation, Reshape, LSTM, Bidirectional\n",
    ")\n",
    "from tensorflow.keras.optimizers import Adam"
   ]
  },
  {
   "cell_type": "code",
   "execution_count": 2,
   "metadata": {
    "execution": {
     "iopub.execute_input": "2024-11-20T16:26:21.267223Z",
     "iopub.status.busy": "2024-11-20T16:26:21.266474Z",
     "iopub.status.idle": "2024-11-20T16:26:21.270014Z",
     "shell.execute_reply": "2024-11-20T16:26:21.269590Z",
     "shell.execute_reply.started": "2024-11-20T15:31:40.176125Z"
    },
    "papermill": {
     "duration": 0.470192,
     "end_time": "2024-11-20T16:26:21.270120",
     "exception": false,
     "start_time": "2024-11-20T16:26:20.799928",
     "status": "completed"
    },
    "tags": []
   },
   "outputs": [
    {
     "name": "stdout",
     "output_type": "stream",
     "text": [
      "GPU Available:  [PhysicalDevice(name='/physical_device:GPU:0', device_type='GPU')]\n"
     ]
    }
   ],
   "source": [
    "print(\"GPU Available: \", tf.config.list_physical_devices('GPU'))"
   ]
  },
  {
   "cell_type": "markdown",
   "metadata": {
    "papermill": {
     "duration": 0.022609,
     "end_time": "2024-11-20T16:26:21.315894",
     "exception": false,
     "start_time": "2024-11-20T16:26:21.293285",
     "status": "completed"
    },
    "tags": []
   },
   "source": [
    "## import data"
   ]
  },
  {
   "cell_type": "code",
   "execution_count": 3,
   "metadata": {
    "execution": {
     "iopub.execute_input": "2024-11-20T16:26:21.372603Z",
     "iopub.status.busy": "2024-11-20T16:26:21.372115Z",
     "iopub.status.idle": "2024-11-20T16:26:21.798350Z",
     "shell.execute_reply": "2024-11-20T16:26:21.797803Z",
     "shell.execute_reply.started": "2024-11-20T15:31:40.188457Z"
    },
    "papermill": {
     "duration": 0.459705,
     "end_time": "2024-11-20T16:26:21.798451",
     "exception": false,
     "start_time": "2024-11-20T16:26:21.338746",
     "status": "completed"
    },
    "tags": []
   },
   "outputs": [],
   "source": [
    "train = pd.read_csv('/kaggle/input/handwriting-recognition/written_name_train_v2.csv')\n",
    "valid = pd.read_csv('/kaggle/input/handwriting-recognition/written_name_validation_v2.csv')"
   ]
  },
  {
   "cell_type": "code",
   "execution_count": 4,
   "metadata": {
    "execution": {
     "iopub.execute_input": "2024-11-20T16:26:21.858200Z",
     "iopub.status.busy": "2024-11-20T16:26:21.857668Z",
     "iopub.status.idle": "2024-11-20T16:26:21.865093Z",
     "shell.execute_reply": "2024-11-20T16:26:21.865454Z",
     "shell.execute_reply.started": "2024-11-20T15:31:40.612487Z"
    },
    "papermill": {
     "duration": 0.04421,
     "end_time": "2024-11-20T16:26:21.865575",
     "exception": false,
     "start_time": "2024-11-20T16:26:21.821365",
     "status": "completed"
    },
    "tags": []
   },
   "outputs": [
    {
     "data": {
      "text/html": [
       "<div>\n",
       "<style scoped>\n",
       "    .dataframe tbody tr th:only-of-type {\n",
       "        vertical-align: middle;\n",
       "    }\n",
       "\n",
       "    .dataframe tbody tr th {\n",
       "        vertical-align: top;\n",
       "    }\n",
       "\n",
       "    .dataframe thead th {\n",
       "        text-align: right;\n",
       "    }\n",
       "</style>\n",
       "<table border=\"1\" class=\"dataframe\">\n",
       "  <thead>\n",
       "    <tr style=\"text-align: right;\">\n",
       "      <th></th>\n",
       "      <th>FILENAME</th>\n",
       "      <th>IDENTITY</th>\n",
       "    </tr>\n",
       "  </thead>\n",
       "  <tbody>\n",
       "    <tr>\n",
       "      <th>0</th>\n",
       "      <td>TRAIN_00001.jpg</td>\n",
       "      <td>BALTHAZAR</td>\n",
       "    </tr>\n",
       "    <tr>\n",
       "      <th>1</th>\n",
       "      <td>TRAIN_00002.jpg</td>\n",
       "      <td>SIMON</td>\n",
       "    </tr>\n",
       "    <tr>\n",
       "      <th>2</th>\n",
       "      <td>TRAIN_00003.jpg</td>\n",
       "      <td>BENES</td>\n",
       "    </tr>\n",
       "    <tr>\n",
       "      <th>3</th>\n",
       "      <td>TRAIN_00004.jpg</td>\n",
       "      <td>LA LOVE</td>\n",
       "    </tr>\n",
       "    <tr>\n",
       "      <th>4</th>\n",
       "      <td>TRAIN_00005.jpg</td>\n",
       "      <td>DAPHNE</td>\n",
       "    </tr>\n",
       "    <tr>\n",
       "      <th>...</th>\n",
       "      <td>...</td>\n",
       "      <td>...</td>\n",
       "    </tr>\n",
       "    <tr>\n",
       "      <th>330956</th>\n",
       "      <td>TRAIN_330957.jpg</td>\n",
       "      <td>LENNY</td>\n",
       "    </tr>\n",
       "    <tr>\n",
       "      <th>330957</th>\n",
       "      <td>TRAIN_330958.jpg</td>\n",
       "      <td>TIFFANY</td>\n",
       "    </tr>\n",
       "    <tr>\n",
       "      <th>330958</th>\n",
       "      <td>TRAIN_330959.jpg</td>\n",
       "      <td>COUTINHO DESA</td>\n",
       "    </tr>\n",
       "    <tr>\n",
       "      <th>330959</th>\n",
       "      <td>TRAIN_330960.jpg</td>\n",
       "      <td>MOURAD</td>\n",
       "    </tr>\n",
       "    <tr>\n",
       "      <th>330960</th>\n",
       "      <td>TRAIN_330961.jpg</td>\n",
       "      <td>HELOISE</td>\n",
       "    </tr>\n",
       "  </tbody>\n",
       "</table>\n",
       "<p>330961 rows × 2 columns</p>\n",
       "</div>"
      ],
      "text/plain": [
       "                FILENAME       IDENTITY\n",
       "0        TRAIN_00001.jpg      BALTHAZAR\n",
       "1        TRAIN_00002.jpg          SIMON\n",
       "2        TRAIN_00003.jpg          BENES\n",
       "3        TRAIN_00004.jpg        LA LOVE\n",
       "4        TRAIN_00005.jpg         DAPHNE\n",
       "...                  ...            ...\n",
       "330956  TRAIN_330957.jpg          LENNY\n",
       "330957  TRAIN_330958.jpg        TIFFANY\n",
       "330958  TRAIN_330959.jpg  COUTINHO DESA\n",
       "330959  TRAIN_330960.jpg         MOURAD\n",
       "330960  TRAIN_330961.jpg        HELOISE\n",
       "\n",
       "[330961 rows x 2 columns]"
      ]
     },
     "execution_count": 4,
     "metadata": {},
     "output_type": "execute_result"
    }
   ],
   "source": [
    "train"
   ]
  },
  {
   "cell_type": "code",
   "execution_count": 5,
   "metadata": {
    "execution": {
     "iopub.execute_input": "2024-11-20T16:26:21.920131Z",
     "iopub.status.busy": "2024-11-20T16:26:21.919572Z",
     "iopub.status.idle": "2024-11-20T16:26:21.922791Z",
     "shell.execute_reply": "2024-11-20T16:26:21.922390Z",
     "shell.execute_reply.started": "2024-11-20T15:31:40.632340Z"
    },
    "papermill": {
     "duration": 0.034465,
     "end_time": "2024-11-20T16:26:21.922879",
     "exception": false,
     "start_time": "2024-11-20T16:26:21.888414",
     "status": "completed"
    },
    "tags": []
   },
   "outputs": [
    {
     "data": {
      "text/html": [
       "<div>\n",
       "<style scoped>\n",
       "    .dataframe tbody tr th:only-of-type {\n",
       "        vertical-align: middle;\n",
       "    }\n",
       "\n",
       "    .dataframe tbody tr th {\n",
       "        vertical-align: top;\n",
       "    }\n",
       "\n",
       "    .dataframe thead th {\n",
       "        text-align: right;\n",
       "    }\n",
       "</style>\n",
       "<table border=\"1\" class=\"dataframe\">\n",
       "  <thead>\n",
       "    <tr style=\"text-align: right;\">\n",
       "      <th></th>\n",
       "      <th>FILENAME</th>\n",
       "      <th>IDENTITY</th>\n",
       "    </tr>\n",
       "  </thead>\n",
       "  <tbody>\n",
       "    <tr>\n",
       "      <th>0</th>\n",
       "      <td>VALIDATION_0001.jpg</td>\n",
       "      <td>BILEL</td>\n",
       "    </tr>\n",
       "    <tr>\n",
       "      <th>1</th>\n",
       "      <td>VALIDATION_0002.jpg</td>\n",
       "      <td>LAUMIONIER</td>\n",
       "    </tr>\n",
       "    <tr>\n",
       "      <th>2</th>\n",
       "      <td>VALIDATION_0003.jpg</td>\n",
       "      <td>LEA</td>\n",
       "    </tr>\n",
       "    <tr>\n",
       "      <th>3</th>\n",
       "      <td>VALIDATION_0004.jpg</td>\n",
       "      <td>JEAN-ROCH</td>\n",
       "    </tr>\n",
       "    <tr>\n",
       "      <th>4</th>\n",
       "      <td>VALIDATION_0005.jpg</td>\n",
       "      <td>RUPP</td>\n",
       "    </tr>\n",
       "    <tr>\n",
       "      <th>...</th>\n",
       "      <td>...</td>\n",
       "      <td>...</td>\n",
       "    </tr>\n",
       "    <tr>\n",
       "      <th>41365</th>\n",
       "      <td>VALIDATION_41366.jpg</td>\n",
       "      <td>CHAILLAN</td>\n",
       "    </tr>\n",
       "    <tr>\n",
       "      <th>41366</th>\n",
       "      <td>VALIDATION_41367.jpg</td>\n",
       "      <td>BAROUH</td>\n",
       "    </tr>\n",
       "    <tr>\n",
       "      <th>41367</th>\n",
       "      <td>VALIDATION_41368.jpg</td>\n",
       "      <td>MAXENCE</td>\n",
       "    </tr>\n",
       "    <tr>\n",
       "      <th>41368</th>\n",
       "      <td>VALIDATION_41369.jpg</td>\n",
       "      <td>HAMELIN</td>\n",
       "    </tr>\n",
       "    <tr>\n",
       "      <th>41369</th>\n",
       "      <td>VALIDATION_41370.jpg</td>\n",
       "      <td>LOLA</td>\n",
       "    </tr>\n",
       "  </tbody>\n",
       "</table>\n",
       "<p>41370 rows × 2 columns</p>\n",
       "</div>"
      ],
      "text/plain": [
       "                   FILENAME    IDENTITY\n",
       "0       VALIDATION_0001.jpg       BILEL\n",
       "1       VALIDATION_0002.jpg  LAUMIONIER\n",
       "2       VALIDATION_0003.jpg         LEA\n",
       "3       VALIDATION_0004.jpg   JEAN-ROCH\n",
       "4       VALIDATION_0005.jpg        RUPP\n",
       "...                     ...         ...\n",
       "41365  VALIDATION_41366.jpg    CHAILLAN\n",
       "41366  VALIDATION_41367.jpg      BAROUH\n",
       "41367  VALIDATION_41368.jpg     MAXENCE\n",
       "41368  VALIDATION_41369.jpg     HAMELIN\n",
       "41369  VALIDATION_41370.jpg        LOLA\n",
       "\n",
       "[41370 rows x 2 columns]"
      ]
     },
     "execution_count": 5,
     "metadata": {},
     "output_type": "execute_result"
    }
   ],
   "source": [
    "valid"
   ]
  },
  {
   "cell_type": "code",
   "execution_count": 6,
   "metadata": {
    "execution": {
     "iopub.execute_input": "2024-11-20T16:26:21.974948Z",
     "iopub.status.busy": "2024-11-20T16:26:21.974447Z",
     "iopub.status.idle": "2024-11-20T16:26:22.351872Z",
     "shell.execute_reply": "2024-11-20T16:26:22.351294Z",
     "shell.execute_reply.started": "2024-11-20T15:31:40.645371Z"
    },
    "papermill": {
     "duration": 0.405701,
     "end_time": "2024-11-20T16:26:22.352025",
     "exception": false,
     "start_time": "2024-11-20T16:26:21.946324",
     "status": "completed"
    },
    "tags": []
   },
   "outputs": [
    {
     "data": {
      "image/png": "[encoded data removed]",
      "text/plain": [
       "<Figure size 1080x720 with 6 Axes>"
      ]
     },
     "metadata": {
      "needs_background": "light"
     },
     "output_type": "display_data"
    }
   ],
   "source": [
    "plt.figure(figsize=(15, 10))\n",
    "\n",
    "for i in range(6):\n",
    "    ax = plt.subplot(2, 3, i+1)\n",
    "    img_dir = '/kaggle/input/handwriting-recognition/train_v2/train/'+train.loc[i, 'FILENAME']\n",
    "    image = cv2.imread(img_dir, cv2.IMREAD_GRAYSCALE)\n",
    "    plt.imshow(image, cmap = 'gray')\n",
    "    plt.title(train.loc[i, 'IDENTITY'], fontsize=12)\n",
    "    plt.axis('off')\n",
    "\n",
    "plt.subplots_adjust(wspace=0.2, hspace=-0.8)"
   ]
  },
  {
   "cell_type": "markdown",
   "metadata": {
    "papermill": {
     "duration": 0.023899,
     "end_time": "2024-11-20T16:26:22.402365",
     "exception": false,
     "start_time": "2024-11-20T16:26:22.378466",
     "status": "completed"
    },
    "tags": []
   },
   "source": [
    "# Cleaning Data"
   ]
  },
  {
   "cell_type": "code",
   "execution_count": 7,
   "metadata": {
    "execution": {
     "iopub.execute_input": "2024-11-20T16:26:22.485788Z",
     "iopub.status.busy": "2024-11-20T16:26:22.485245Z",
     "iopub.status.idle": "2024-11-20T16:26:22.495999Z",
     "shell.execute_reply": "2024-11-20T16:26:22.496407Z",
     "shell.execute_reply.started": "2024-11-20T15:31:41.007823Z"
    },
    "papermill": {
     "duration": 0.070403,
     "end_time": "2024-11-20T16:26:22.496536",
     "exception": false,
     "start_time": "2024-11-20T16:26:22.426133",
     "status": "completed"
    },
    "tags": []
   },
   "outputs": [
    {
     "name": "stdout",
     "output_type": "stream",
     "text": [
      "<class 'pandas.core.frame.DataFrame'>\n",
      "RangeIndex: 330961 entries, 0 to 330960\n",
      "Data columns (total 2 columns):\n",
      " #   Column    Non-Null Count   Dtype \n",
      "---  ------    --------------   ----- \n",
      " 0   FILENAME  330961 non-null  object\n",
      " 1   IDENTITY  330396 non-null  object\n",
      "dtypes: object(2)\n",
      "memory usage: 5.1+ MB\n"
     ]
    }
   ],
   "source": [
    "train.info()"
   ]
  },
  {
   "cell_type": "code",
   "execution_count": 8,
   "metadata": {
    "execution": {
     "iopub.execute_input": "2024-11-20T16:26:22.556248Z",
     "iopub.status.busy": "2024-11-20T16:26:22.552699Z",
     "iopub.status.idle": "2024-11-20T16:26:22.558857Z",
     "shell.execute_reply": "2024-11-20T16:26:22.559280Z",
     "shell.execute_reply.started": "2024-11-20T15:31:41.054372Z"
    },
    "papermill": {
     "duration": 0.03852,
     "end_time": "2024-11-20T16:26:22.559411",
     "exception": false,
     "start_time": "2024-11-20T16:26:22.520891",
     "status": "completed"
    },
    "tags": []
   },
   "outputs": [
    {
     "name": "stdout",
     "output_type": "stream",
     "text": [
      "<class 'pandas.core.frame.DataFrame'>\n",
      "RangeIndex: 41370 entries, 0 to 41369\n",
      "Data columns (total 2 columns):\n",
      " #   Column    Non-Null Count  Dtype \n",
      "---  ------    --------------  ----- \n",
      " 0   FILENAME  41370 non-null  object\n",
      " 1   IDENTITY  41292 non-null  object\n",
      "dtypes: object(2)\n",
      "memory usage: 646.5+ KB\n"
     ]
    }
   ],
   "source": [
    "valid.info()"
   ]
  },
  {
   "cell_type": "code",
   "execution_count": 9,
   "metadata": {
    "execution": {
     "iopub.execute_input": "2024-11-20T16:26:22.629214Z",
     "iopub.status.busy": "2024-11-20T16:26:22.628589Z",
     "iopub.status.idle": "2024-11-20T16:26:22.635183Z",
     "shell.execute_reply": "2024-11-20T16:26:22.634726Z",
     "shell.execute_reply.started": "2024-11-20T15:31:41.069528Z"
    },
    "papermill": {
     "duration": 0.051227,
     "end_time": "2024-11-20T16:26:22.635290",
     "exception": false,
     "start_time": "2024-11-20T16:26:22.584063",
     "status": "completed"
    },
    "tags": []
   },
   "outputs": [
    {
     "name": "stdout",
     "output_type": "stream",
     "text": [
      "Number of NaNs in train set      :  565\n",
      "Number of NaNs in validation set :  78\n"
     ]
    }
   ],
   "source": [
    "print(\"Number of NaNs in train set      : \", train['IDENTITY'].isnull().sum())\n",
    "print(\"Number of NaNs in validation set : \", valid['IDENTITY'].isnull().sum())"
   ]
  },
  {
   "cell_type": "code",
   "execution_count": 10,
   "metadata": {
    "execution": {
     "iopub.execute_input": "2024-11-20T16:26:22.721319Z",
     "iopub.status.busy": "2024-11-20T16:26:22.720428Z",
     "iopub.status.idle": "2024-11-20T16:26:22.884846Z",
     "shell.execute_reply": "2024-11-20T16:26:22.885274Z",
     "shell.execute_reply.started": "2024-11-20T15:31:41.218664Z"
    },
    "papermill": {
     "duration": 0.223396,
     "end_time": "2024-11-20T16:26:22.885420",
     "exception": false,
     "start_time": "2024-11-20T16:26:22.662024",
     "status": "completed"
    },
    "tags": []
   },
   "outputs": [],
   "source": [
    "train.dropna(axis=0, inplace=True)\n",
    "valid.dropna(axis=0, inplace=True)"
   ]
  },
  {
   "cell_type": "code",
   "execution_count": 11,
   "metadata": {
    "execution": {
     "iopub.execute_input": "2024-11-20T16:26:22.962847Z",
     "iopub.status.busy": "2024-11-20T16:26:22.962035Z",
     "iopub.status.idle": "2024-11-20T16:26:23.258671Z",
     "shell.execute_reply": "2024-11-20T16:26:23.259147Z",
     "shell.execute_reply.started": "2024-11-20T15:31:41.299274Z"
    },
    "papermill": {
     "duration": 0.349044,
     "end_time": "2024-11-20T16:26:23.259289",
     "exception": false,
     "start_time": "2024-11-20T16:26:22.910245",
     "status": "completed"
    },
    "tags": []
   },
   "outputs": [
    {
     "data": {
      "image/png": "[encoded data removed]",
      "text/plain": [
       "<Figure size 1080x720 with 6 Axes>"
      ]
     },
     "metadata": {
      "needs_background": "light"
     },
     "output_type": "display_data"
    }
   ],
   "source": [
    "unreadable = train[train['IDENTITY'] == 'UNREADABLE']\n",
    "unreadable.reset_index(inplace = True, drop=True)\n",
    "\n",
    "plt.figure(figsize=(15, 10))\n",
    "\n",
    "for i in range(6):\n",
    "    ax = plt.subplot(2, 3, i+1)\n",
    "    img_dir = '/kaggle/input/handwriting-recognition/train_v2/train/'+unreadable.loc[i, 'FILENAME']\n",
    "    image = cv2.imread(img_dir, cv2.IMREAD_GRAYSCALE)\n",
    "    plt.imshow(image, cmap = 'gray')\n",
    "    plt.title(unreadable.loc[i, 'IDENTITY'], fontsize=12)\n",
    "    plt.axis('off')\n",
    "\n",
    "plt.subplots_adjust(wspace=0.2, hspace=-0.8)"
   ]
  },
  {
   "cell_type": "code",
   "execution_count": 12,
   "metadata": {
    "execution": {
     "iopub.execute_input": "2024-11-20T16:26:23.337693Z",
     "iopub.status.busy": "2024-11-20T16:26:23.337141Z",
     "iopub.status.idle": "2024-11-20T16:26:23.352792Z",
     "shell.execute_reply": "2024-11-20T16:26:23.352385Z",
     "shell.execute_reply.started": "2024-11-20T15:31:41.570369Z"
    },
    "papermill": {
     "duration": 0.06613,
     "end_time": "2024-11-20T16:26:23.352894",
     "exception": false,
     "start_time": "2024-11-20T16:26:23.286764",
     "status": "completed"
    },
    "tags": []
   },
   "outputs": [],
   "source": [
    "train = train[train['IDENTITY'] != 'UNREADABLE']\n",
    "valid = valid[valid['IDENTITY'] != 'UNREADABLE']"
   ]
  },
  {
   "cell_type": "code",
   "execution_count": 13,
   "metadata": {
    "execution": {
     "iopub.execute_input": "2024-11-20T16:26:23.425479Z",
     "iopub.status.busy": "2024-11-20T16:26:23.424982Z",
     "iopub.status.idle": "2024-11-20T16:26:23.554226Z",
     "shell.execute_reply": "2024-11-20T16:26:23.553698Z",
     "shell.execute_reply.started": "2024-11-20T15:31:41.610321Z"
    },
    "papermill": {
     "duration": 0.175144,
     "end_time": "2024-11-20T16:26:23.554330",
     "exception": false,
     "start_time": "2024-11-20T16:26:23.379186",
     "status": "completed"
    },
    "tags": []
   },
   "outputs": [
    {
     "name": "stderr",
     "output_type": "stream",
     "text": [
      "/opt/conda/lib/python3.7/site-packages/ipykernel_launcher.py:1: SettingWithCopyWarning: \n",
      "A value is trying to be set on a copy of a slice from a DataFrame.\n",
      "Try using .loc[row_indexer,col_indexer] = value instead\n",
      "\n",
      "See the caveats in the documentation: https://pandas.pydata.org/pandas-docs/stable/user_guide/indexing.html#returning-a-view-versus-a-copy\n",
      "  \"\"\"Entry point for launching an IPython kernel.\n",
      "/opt/conda/lib/python3.7/site-packages/ipykernel_launcher.py:2: SettingWithCopyWarning: \n",
      "A value is trying to be set on a copy of a slice from a DataFrame.\n",
      "Try using .loc[row_indexer,col_indexer] = value instead\n",
      "\n",
      "See the caveats in the documentation: https://pandas.pydata.org/pandas-docs/stable/user_guide/indexing.html#returning-a-view-versus-a-copy\n",
      "  \n"
     ]
    }
   ],
   "source": [
    "train['IDENTITY'] = train['IDENTITY'].str.upper()\n",
    "valid['IDENTITY'] = valid['IDENTITY'].str.upper()"
   ]
  },
  {
   "cell_type": "code",
   "execution_count": 14,
   "metadata": {
    "execution": {
     "iopub.execute_input": "2024-11-20T16:26:23.611195Z",
     "iopub.status.busy": "2024-11-20T16:26:23.610337Z",
     "iopub.status.idle": "2024-11-20T16:26:23.612531Z",
     "shell.execute_reply": "2024-11-20T16:26:23.612886Z",
     "shell.execute_reply.started": "2024-11-20T15:31:41.767203Z"
    },
    "papermill": {
     "duration": 0.032625,
     "end_time": "2024-11-20T16:26:23.613045",
     "exception": false,
     "start_time": "2024-11-20T16:26:23.580420",
     "status": "completed"
    },
    "tags": []
   },
   "outputs": [],
   "source": [
    "train.reset_index(inplace = True, drop=True) \n",
    "valid.reset_index(inplace = True, drop=True)"
   ]
  },
  {
   "cell_type": "markdown",
   "metadata": {
    "papermill": {
     "duration": 0.027056,
     "end_time": "2024-11-20T16:26:23.666243",
     "exception": false,
     "start_time": "2024-11-20T16:26:23.639187",
     "status": "completed"
    },
    "tags": []
   },
   "source": [
    "# Pre-processing Data"
   ]
  },
  {
   "cell_type": "code",
   "execution_count": 15,
   "metadata": {
    "execution": {
     "iopub.execute_input": "2024-11-20T16:26:23.724303Z",
     "iopub.status.busy": "2024-11-20T16:26:23.723460Z",
     "iopub.status.idle": "2024-11-20T16:26:23.726122Z",
     "shell.execute_reply": "2024-11-20T16:26:23.725641Z",
     "shell.execute_reply.started": "2024-11-20T15:31:41.774213Z"
    },
    "papermill": {
     "duration": 0.033834,
     "end_time": "2024-11-20T16:26:23.726218",
     "exception": false,
     "start_time": "2024-11-20T16:26:23.692384",
     "status": "completed"
    },
    "tags": []
   },
   "outputs": [],
   "source": [
    "def preprocess(img):\n",
    "    (h, w) = img.shape\n",
    "    \n",
    "    final_img = np.ones([64, 256])*255 \n",
    "    \n",
    "    # crop\n",
    "    if w > 256:\n",
    "        img = img[:, :256]\n",
    "        \n",
    "    if h > 64:\n",
    "        img = img[:64, :]\n",
    "    \n",
    "    \n",
    "    final_img[:h, :w] = img\n",
    "    return cv2.rotate(final_img, cv2.ROTATE_90_CLOCKWISE)"
   ]
  },
  {
   "cell_type": "code",
   "execution_count": 16,
   "metadata": {
    "execution": {
     "iopub.execute_input": "2024-11-20T16:26:23.782172Z",
     "iopub.status.busy": "2024-11-20T16:26:23.781557Z",
     "iopub.status.idle": "2024-11-20T16:26:23.783938Z",
     "shell.execute_reply": "2024-11-20T16:26:23.783448Z",
     "shell.execute_reply.started": "2024-11-20T15:31:41.788639Z"
    },
    "papermill": {
     "duration": 0.031524,
     "end_time": "2024-11-20T16:26:23.784064",
     "exception": false,
     "start_time": "2024-11-20T16:26:23.752540",
     "status": "completed"
    },
    "tags": []
   },
   "outputs": [],
   "source": [
    "train_size = 30000\n",
    "valid_size= 3000"
   ]
  },
  {
   "cell_type": "code",
   "execution_count": 17,
   "metadata": {
    "execution": {
     "iopub.execute_input": "2024-11-20T16:26:23.842334Z",
     "iopub.status.busy": "2024-11-20T16:26:23.841273Z",
     "iopub.status.idle": "2024-11-20T16:31:31.150937Z",
     "shell.execute_reply": "2024-11-20T16:31:31.150456Z",
     "shell.execute_reply.started": "2024-11-20T15:31:41.803567Z"
    },
    "papermill": {
     "duration": 307.340364,
     "end_time": "2024-11-20T16:31:31.151109",
     "exception": false,
     "start_time": "2024-11-20T16:26:23.810745",
     "status": "completed"
    },
    "tags": []
   },
   "outputs": [],
   "source": [
    "train_x = []\n",
    "\n",
    "for i in range(train_size):\n",
    "    img_dir = '/kaggle/input/handwriting-recognition/train_v2/train/'+train.loc[i, 'FILENAME']\n",
    "    image = cv2.imread(img_dir, cv2.IMREAD_GRAYSCALE)\n",
    "    image = preprocess(image)\n",
    "    image = image/255.\n",
    "    train_x.append(image)"
   ]
  },
  {
   "cell_type": "code",
   "execution_count": 18,
   "metadata": {
    "execution": {
     "iopub.execute_input": "2024-11-20T16:31:31.209694Z",
     "iopub.status.busy": "2024-11-20T16:31:31.208993Z",
     "iopub.status.idle": "2024-11-20T16:32:05.535278Z",
     "shell.execute_reply": "2024-11-20T16:32:05.534750Z",
     "shell.execute_reply.started": "2024-11-20T15:35:03.361192Z"
    },
    "papermill": {
     "duration": 34.357364,
     "end_time": "2024-11-20T16:32:05.535405",
     "exception": false,
     "start_time": "2024-11-20T16:31:31.178041",
     "status": "completed"
    },
    "tags": []
   },
   "outputs": [],
   "source": [
    "valid_x = []\n",
    "\n",
    "for i in range(valid_size):\n",
    "    img_dir = '/kaggle/input/handwriting-recognition/validation_v2/validation/'+valid.loc[i, 'FILENAME']\n",
    "    image = cv2.imread(img_dir, cv2.IMREAD_GRAYSCALE)\n",
    "    image = preprocess(image)\n",
    "    image = image/255.\n",
    "    valid_x.append(image)"
   ]
  },
  {
   "cell_type": "code",
   "execution_count": 19,
   "metadata": {
    "execution": {
     "iopub.execute_input": "2024-11-20T16:32:05.593466Z",
     "iopub.status.busy": "2024-11-20T16:32:05.592906Z",
     "iopub.status.idle": "2024-11-20T16:32:06.846926Z",
     "shell.execute_reply": "2024-11-20T16:32:06.846381Z",
     "shell.execute_reply.started": "2024-11-20T15:35:22.770880Z"
    },
    "papermill": {
     "duration": 1.284978,
     "end_time": "2024-11-20T16:32:06.847076",
     "exception": false,
     "start_time": "2024-11-20T16:32:05.562098",
     "status": "completed"
    },
    "tags": []
   },
   "outputs": [],
   "source": [
    "train_x = np.array(train_x).reshape(-1, 256, 64, 1)\n",
    "valid_x = np.array(valid_x).reshape(-1, 256, 64, 1)"
   ]
  },
  {
   "cell_type": "markdown",
   "metadata": {
    "papermill": {
     "duration": 0.026105,
     "end_time": "2024-11-20T16:32:06.899765",
     "exception": false,
     "start_time": "2024-11-20T16:32:06.873660",
     "status": "completed"
    },
    "tags": []
   },
   "source": [
    "# Convert labels to numerical format and back\n",
    "\n",
    "Since the model is trained using **CTC Loss**, the labels need to be in **numerical form**, and their lengths must be adjusted during training.\n"
   ]
  },
  {
   "cell_type": "code",
   "execution_count": 20,
   "metadata": {
    "execution": {
     "iopub.execute_input": "2024-11-20T16:32:06.957685Z",
     "iopub.status.busy": "2024-11-20T16:32:06.957166Z",
     "iopub.status.idle": "2024-11-20T16:32:06.959599Z",
     "shell.execute_reply": "2024-11-20T16:32:06.959190Z",
     "shell.execute_reply.started": "2024-11-20T15:35:24.021975Z"
    },
    "papermill": {
     "duration": 0.033943,
     "end_time": "2024-11-20T16:32:06.959689",
     "exception": false,
     "start_time": "2024-11-20T16:32:06.925746",
     "status": "completed"
    },
    "tags": []
   },
   "outputs": [],
   "source": [
    "alphabets = u\"ABCDEFGHIJKLMNOPQRSTUVWXYZ-' \"\n",
    "max_str_len = 24 # max length of input labels\n",
    "num_of_characters = len(alphabets) + 1 # +1 for ctc pseudo blank\n",
    "num_of_timestamps = 64 # max length of predicted labels\n",
    "\n",
    "def label_to_num(label):\n",
    "    label_num = []\n",
    "    for ch in label:\n",
    "        label_num.append(alphabets.find(ch))\n",
    "        \n",
    "    return np.array(label_num)\n",
    "\n",
    "def num_to_label(num):\n",
    "    ret = \"\"\n",
    "    for ch in num:\n",
    "        if ch == -1:  # CTC Blank\n",
    "            break\n",
    "        else:\n",
    "            ret+=alphabets[ch]\n",
    "    return ret"
   ]
  },
  {
   "cell_type": "code",
   "execution_count": 21,
   "metadata": {
    "execution": {
     "iopub.execute_input": "2024-11-20T16:32:07.016203Z",
     "iopub.status.busy": "2024-11-20T16:32:07.015639Z",
     "iopub.status.idle": "2024-11-20T16:32:07.018423Z",
     "shell.execute_reply": "2024-11-20T16:32:07.018841Z",
     "shell.execute_reply.started": "2024-11-20T15:35:24.029503Z"
    },
    "papermill": {
     "duration": 0.033408,
     "end_time": "2024-11-20T16:32:07.018971",
     "exception": false,
     "start_time": "2024-11-20T16:32:06.985563",
     "status": "completed"
    },
    "tags": []
   },
   "outputs": [
    {
     "name": "stdout",
     "output_type": "stream",
     "text": [
      "NUR HIKMAH \n",
      " [13 20 17 28  7  8 10 12  0  7]\n"
     ]
    }
   ],
   "source": [
    "name = 'NUR HIKMAH'\n",
    "print(name, '\\n',label_to_num(name))"
   ]
  },
  {
   "cell_type": "code",
   "execution_count": 22,
   "metadata": {
    "execution": {
     "iopub.execute_input": "2024-11-20T16:32:07.076693Z",
     "iopub.status.busy": "2024-11-20T16:32:07.076177Z",
     "iopub.status.idle": "2024-11-20T16:32:07.800612Z",
     "shell.execute_reply": "2024-11-20T16:32:07.801059Z",
     "shell.execute_reply.started": "2024-11-20T15:35:24.044040Z"
    },
    "papermill": {
     "duration": 0.756258,
     "end_time": "2024-11-20T16:32:07.801193",
     "exception": false,
     "start_time": "2024-11-20T16:32:07.044935",
     "status": "completed"
    },
    "tags": []
   },
   "outputs": [],
   "source": [
    "train_y = np.ones([train_size, max_str_len]) * -1\n",
    "train_label_len = np.zeros([train_size, 1])\n",
    "train_input_len = np.ones([train_size, 1]) * (num_of_timestamps-2)\n",
    "train_output = np.zeros([train_size])\n",
    "\n",
    "for i in range(train_size):\n",
    "    train_label_len[i] = len(train.loc[i, 'IDENTITY'])\n",
    "    train_y[i, 0:len(train.loc[i, 'IDENTITY'])]= label_to_num(train.loc[i, 'IDENTITY'])    "
   ]
  },
  {
   "cell_type": "code",
   "execution_count": 23,
   "metadata": {
    "execution": {
     "iopub.execute_input": "2024-11-20T16:32:07.995196Z",
     "iopub.status.busy": "2024-11-20T16:32:07.859189Z",
     "iopub.status.idle": "2024-11-20T16:32:07.997841Z",
     "shell.execute_reply": "2024-11-20T16:32:07.997394Z",
     "shell.execute_reply.started": "2024-11-20T15:35:24.814305Z"
    },
    "papermill": {
     "duration": 0.170208,
     "end_time": "2024-11-20T16:32:07.997940",
     "exception": false,
     "start_time": "2024-11-20T16:32:07.827732",
     "status": "completed"
    },
    "tags": []
   },
   "outputs": [],
   "source": [
    "valid_y = np.ones([valid_size, max_str_len]) * -1\n",
    "valid_label_len = np.zeros([valid_size, 1])\n",
    "valid_input_len = np.ones([valid_size, 1]) * (num_of_timestamps-2)\n",
    "valid_output = np.zeros([valid_size])\n",
    "\n",
    "for i in range(valid_size):\n",
    "    valid_label_len[i] = len(valid.loc[i, 'IDENTITY'])\n",
    "    valid_y[i, 0:len(valid.loc[i, 'IDENTITY'])]= label_to_num(valid.loc[i, 'IDENTITY'])    "
   ]
  },
  {
   "cell_type": "code",
   "execution_count": 24,
   "metadata": {
    "execution": {
     "iopub.execute_input": "2024-11-20T16:32:08.056283Z",
     "iopub.status.busy": "2024-11-20T16:32:08.055724Z",
     "iopub.status.idle": "2024-11-20T16:32:08.059410Z",
     "shell.execute_reply": "2024-11-20T16:32:08.058935Z",
     "shell.execute_reply.started": "2024-11-20T15:35:24.966812Z"
    },
    "papermill": {
     "duration": 0.035138,
     "end_time": "2024-11-20T16:32:08.059504",
     "exception": false,
     "start_time": "2024-11-20T16:32:08.024366",
     "status": "completed"
    },
    "tags": []
   },
   "outputs": [
    {
     "name": "stdout",
     "output_type": "stream",
     "text": [
      "True label :  NOUR \n",
      "train_y :  [13. 14. 20. 17. -1. -1. -1. -1. -1. -1. -1. -1. -1. -1. -1. -1. -1. -1.\n",
      " -1. -1. -1. -1. -1. -1.] \n",
      "train_label_len :  [4.] \n",
      "train_input_len :  [62.]\n"
     ]
    }
   ],
   "source": [
    "print('True label : ',train.loc[100, 'IDENTITY'] , '\\ntrain_y : ',train_y[100],'\\ntrain_label_len : ',train_label_len[100], \n",
    "      '\\ntrain_input_len : ', train_input_len[100])"
   ]
  },
  {
   "cell_type": "markdown",
   "metadata": {
    "papermill": {
     "duration": 0.026078,
     "end_time": "2024-11-20T16:32:08.111856",
     "exception": false,
     "start_time": "2024-11-20T16:32:08.085778",
     "status": "completed"
    },
    "tags": []
   },
   "source": [
    "# Model Building\n",
    "\n",
    "This model uses CNN to identify important features from handwritten images, such as patterns and textures. Then, RNN is used to understand the sequence of characters or words in these handwritten images."
   ]
  },
  {
   "cell_type": "code",
   "execution_count": 25,
   "metadata": {
    "execution": {
     "iopub.execute_input": "2024-11-20T16:32:08.175882Z",
     "iopub.status.busy": "2024-11-20T16:32:08.175349Z",
     "iopub.status.idle": "2024-11-20T16:32:10.527544Z",
     "shell.execute_reply": "2024-11-20T16:32:10.526984Z",
     "shell.execute_reply.started": "2024-11-20T15:35:24.980849Z"
    },
    "papermill": {
     "duration": 2.38896,
     "end_time": "2024-11-20T16:32:10.527647",
     "exception": false,
     "start_time": "2024-11-20T16:32:08.138687",
     "status": "completed"
    },
    "tags": []
   },
   "outputs": [
    {
     "name": "stdout",
     "output_type": "stream",
     "text": [
      "Model: \"functional_1\"\n",
      "_________________________________________________________________\n",
      "Layer (type)                 Output Shape              Param #   \n",
      "=================================================================\n",
      "input (InputLayer)           [(None, 256, 64, 1)]      0         \n",
      "_________________________________________________________________\n",
      "conv1 (Conv2D)               (None, 256, 64, 32)       320       \n",
      "_________________________________________________________________\n",
      "batch_normalization (BatchNo (None, 256, 64, 32)       128       \n",
      "_________________________________________________________________\n",
      "activation (Activation)      (None, 256, 64, 32)       0         \n",
      "_________________________________________________________________\n",
      "max1 (MaxPooling2D)          (None, 128, 32, 32)       0         \n",
      "_________________________________________________________________\n",
      "conv2 (Conv2D)               (None, 128, 32, 64)       18496     \n",
      "_________________________________________________________________\n",
      "batch_normalization_1 (Batch (None, 128, 32, 64)       256       \n",
      "_________________________________________________________________\n",
      "activation_1 (Activation)    (None, 128, 32, 64)       0         \n",
      "_________________________________________________________________\n",
      "max2 (MaxPooling2D)          (None, 64, 16, 64)        0         \n",
      "_________________________________________________________________\n",
      "dropout (Dropout)            (None, 64, 16, 64)        0         \n",
      "_________________________________________________________________\n",
      "conv3 (Conv2D)               (None, 64, 16, 128)       73856     \n",
      "_________________________________________________________________\n",
      "batch_normalization_2 (Batch (None, 64, 16, 128)       512       \n",
      "_________________________________________________________________\n",
      "activation_2 (Activation)    (None, 64, 16, 128)       0         \n",
      "_________________________________________________________________\n",
      "max3 (MaxPooling2D)          (None, 64, 8, 128)        0         \n",
      "_________________________________________________________________\n",
      "dropout_1 (Dropout)          (None, 64, 8, 128)        0         \n",
      "_________________________________________________________________\n",
      "reshape (Reshape)            (None, 64, 1024)          0         \n",
      "_________________________________________________________________\n",
      "dense1 (Dense)               (None, 64, 64)            65600     \n",
      "_________________________________________________________________\n",
      "lstm1 (Bidirectional)        (None, 64, 512)           657408    \n",
      "_________________________________________________________________\n",
      "lstm2 (Bidirectional)        (None, 64, 512)           1574912   \n",
      "_________________________________________________________________\n",
      "dense2 (Dense)               (None, 64, 30)            15390     \n",
      "_________________________________________________________________\n",
      "softmax (Activation)         (None, 64, 30)            0         \n",
      "=================================================================\n",
      "Total params: 2,406,878\n",
      "Trainable params: 2,406,430\n",
      "Non-trainable params: 448\n",
      "_________________________________________________________________\n"
     ]
    }
   ],
   "source": [
    "# Input layer: expects grayscale images of shape (256, 64, 1)\n",
    "input_data = Input(shape=(256, 64, 1), name='input')\n",
    "\n",
    "# First Convolutional Block\n",
    "inner = Conv2D(32, (3, 3), padding='same', name='conv1', kernel_initializer='he_normal')(input_data)  \n",
    "inner = BatchNormalization()(inner)  \n",
    "inner = Activation('relu')(inner) \n",
    "inner = MaxPooling2D(pool_size=(2, 2), name='max1')(inner)  \n",
    "\n",
    "# Second Convolutional Block\n",
    "inner = Conv2D(64, (3, 3), padding='same', name='conv2', kernel_initializer='he_normal')(inner)  #\n",
    "inner = BatchNormalization()(inner) \n",
    "inner = Activation('relu')(inner)  \n",
    "inner = MaxPooling2D(pool_size=(2, 2), name='max2')(inner) \n",
    "inner = Dropout(0.3)(inner)  \n",
    "\n",
    "# Third Convolutional Block\n",
    "inner = Conv2D(128, (3, 3), padding='same', name='conv3', kernel_initializer='he_normal')(inner)  # 128 filters, 3x3 kernel\n",
    "inner = BatchNormalization()(inner) \n",
    "inner = Activation('relu')(inner)  \n",
    "inner = MaxPooling2D(pool_size=(1, 2), name='max3')(inner)  \n",
    "inner = Dropout(0.3)(inner) \n",
    "\n",
    "# Reshape layer to prepare for RNN input\n",
    "inner = Reshape(target_shape=((64, 1024)), name='reshape')(inner)  # Reshape to (64, 1024)\n",
    "inner = Dense(64, activation='relu', kernel_initializer='he_normal', name='dense1')(inner) \n",
    "\n",
    "# Recurrent Neural Network (RNN) Layers\n",
    "inner = Bidirectional(LSTM(256, return_sequences=True), name='lstm1')(inner)  # Bidirectional LSTM with 256 units, returns sequences\n",
    "inner = Bidirectional(LSTM(256, return_sequences=True), name='lstm2')(inner)  # Another Bidirectional LSTM with 256 units\n",
    "\n",
    "# Output layer\n",
    "inner = Dense(num_of_characters, kernel_initializer='he_normal', name='dense2')(inner) \n",
    "y_pred = Activation('softmax', name='softmax')(inner)  \n",
    "\n",
    "# Model definition\n",
    "model = Model(inputs=input_data, outputs=y_pred)  \n",
    "model.summary() "
   ]
  },
  {
   "cell_type": "markdown",
   "metadata": {
    "papermill": {
     "duration": 0.027373,
     "end_time": "2024-11-20T16:32:10.581927",
     "exception": false,
     "start_time": "2024-11-20T16:32:10.554554",
     "status": "completed"
    },
    "tags": []
   },
   "source": [
    "\n",
    "# Role of CTC Loss\n",
    "\n",
    "**CTC loss** allows the model to predict the sequence of characters in an image without requiring explicit information about the position of each character. It is suitable for handling variations in handwriting length or uncertainty in the placement of handwritten characters."
   ]
  },
  {
   "cell_type": "code",
   "execution_count": 26,
   "metadata": {
    "execution": {
     "iopub.execute_input": "2024-11-20T16:32:10.654306Z",
     "iopub.status.busy": "2024-11-20T16:32:10.653331Z",
     "iopub.status.idle": "2024-11-20T16:32:10.657241Z",
     "shell.execute_reply": "2024-11-20T16:32:10.656432Z",
     "shell.execute_reply.started": "2024-11-20T15:35:27.266529Z"
    },
    "papermill": {
     "duration": 0.048279,
     "end_time": "2024-11-20T16:32:10.657404",
     "exception": false,
     "start_time": "2024-11-20T16:32:10.609125",
     "status": "completed"
    },
    "tags": []
   },
   "outputs": [],
   "source": [
    "def ctc_lambda_func(args):\n",
    "    y_pred, labels, input_length, label_length = args\n",
    "    # the 2 is critical here since the first couple outputs of the RNN\n",
    "    # tend to be garbage\n",
    "    y_pred = y_pred[:, 2:, :]\n",
    "    return K.ctc_batch_cost(labels, y_pred, input_length, label_length)"
   ]
  },
  {
   "cell_type": "code",
   "execution_count": 27,
   "metadata": {
    "execution": {
     "iopub.execute_input": "2024-11-20T16:32:10.722718Z",
     "iopub.status.busy": "2024-11-20T16:32:10.721905Z",
     "iopub.status.idle": "2024-11-20T16:32:10.826741Z",
     "shell.execute_reply": "2024-11-20T16:32:10.825998Z",
     "shell.execute_reply.started": "2024-11-20T15:35:27.275023Z"
    },
    "papermill": {
     "duration": 0.142009,
     "end_time": "2024-11-20T16:32:10.826866",
     "exception": false,
     "start_time": "2024-11-20T16:32:10.684857",
     "status": "completed"
    },
    "tags": []
   },
   "outputs": [],
   "source": [
    "labels = Input(name='gtruth_labels', shape=[max_str_len], dtype='float32')\n",
    "input_length = Input(name='input_length', shape=[1], dtype='int64')\n",
    "label_length = Input(name='label_length', shape=[1], dtype='int64')\n",
    "\n",
    "ctc_loss = Lambda(ctc_lambda_func, output_shape=(1,), name='ctc')([y_pred, labels, input_length, label_length])\n",
    "model_final = Model(inputs=[input_data, labels, input_length, label_length], outputs=ctc_loss)"
   ]
  },
  {
   "cell_type": "markdown",
   "metadata": {
    "papermill": {
     "duration": 0.026381,
     "end_time": "2024-11-20T16:32:10.884068",
     "exception": false,
     "start_time": "2024-11-20T16:32:10.857687",
     "status": "completed"
    },
    "tags": []
   },
   "source": [
    "# Compile model"
   ]
  },
  {
   "cell_type": "code",
   "execution_count": 28,
   "metadata": {
    "execution": {
     "iopub.execute_input": "2024-11-20T16:32:10.948188Z",
     "iopub.status.busy": "2024-11-20T16:32:10.947395Z",
     "iopub.status.idle": "2024-11-20T16:32:10.954203Z",
     "shell.execute_reply": "2024-11-20T16:32:10.953701Z",
     "shell.execute_reply.started": "2024-11-20T15:35:27.394997Z"
    },
    "papermill": {
     "duration": 0.043274,
     "end_time": "2024-11-20T16:32:10.954307",
     "exception": false,
     "start_time": "2024-11-20T16:32:10.911033",
     "status": "completed"
    },
    "tags": []
   },
   "outputs": [],
   "source": [
    "# the loss calculation occurs elsewhere, so we use a dummy lambda function for the loss\n",
    "model_final.compile(loss={'ctc': lambda y_true, y_pred: y_pred}, optimizer=Adam(lr = 0.0001))"
   ]
  },
  {
   "cell_type": "markdown",
   "metadata": {
    "papermill": {
     "duration": 0.026222,
     "end_time": "2024-11-20T16:32:11.007306",
     "exception": false,
     "start_time": "2024-11-20T16:32:10.981084",
     "status": "completed"
    },
    "tags": []
   },
   "source": [
    "# Model Training"
   ]
  },
  {
   "cell_type": "code",
   "execution_count": 29,
   "metadata": {
    "execution": {
     "iopub.execute_input": "2024-11-20T16:32:11.066099Z",
     "iopub.status.busy": "2024-11-20T16:32:11.065565Z",
     "iopub.status.idle": "2024-11-20T17:05:27.093443Z",
     "shell.execute_reply": "2024-11-20T17:05:27.092936Z",
     "shell.execute_reply.started": "2024-11-20T15:35:27.413864Z"
    },
    "papermill": {
     "duration": 1996.059438,
     "end_time": "2024-11-20T17:05:27.093558",
     "exception": false,
     "start_time": "2024-11-20T16:32:11.034120",
     "status": "completed"
    },
    "tags": []
   },
   "outputs": [
    {
     "name": "stdout",
     "output_type": "stream",
     "text": [
      "Epoch 1/60\n",
      "235/235 [==============================] - 35s 147ms/step - loss: 24.2010 - val_loss: 20.9143\n",
      "Epoch 2/60\n",
      "235/235 [==============================] - 33s 140ms/step - loss: 20.1742 - val_loss: 20.1970\n",
      "Epoch 3/60\n",
      "235/235 [==============================] - 33s 140ms/step - loss: 19.8077 - val_loss: 19.7280\n",
      "Epoch 4/60\n",
      "235/235 [==============================] - 33s 140ms/step - loss: 19.1340 - val_loss: 18.7709\n",
      "Epoch 5/60\n",
      "235/235 [==============================] - 33s 140ms/step - loss: 17.7509 - val_loss: 16.6844\n",
      "Epoch 6/60\n",
      "235/235 [==============================] - 33s 140ms/step - loss: 15.7754 - val_loss: 14.3003\n",
      "Epoch 7/60\n",
      "235/235 [==============================] - 33s 141ms/step - loss: 13.4636 - val_loss: 12.0355\n",
      "Epoch 8/60\n",
      "235/235 [==============================] - 33s 140ms/step - loss: 10.9615 - val_loss: 9.8914\n",
      "Epoch 9/60\n",
      "235/235 [==============================] - 33s 140ms/step - loss: 8.4456 - val_loss: 7.4854\n",
      "Epoch 10/60\n",
      "235/235 [==============================] - 33s 140ms/step - loss: 6.7989 - val_loss: 8.6539\n",
      "Epoch 11/60\n",
      "235/235 [==============================] - 33s 140ms/step - loss: 5.7898 - val_loss: 8.4778\n",
      "Epoch 12/60\n",
      "235/235 [==============================] - 33s 140ms/step - loss: 5.1078 - val_loss: 4.7946\n",
      "Epoch 13/60\n",
      "235/235 [==============================] - 33s 140ms/step - loss: 4.6011 - val_loss: 4.5425\n",
      "Epoch 14/60\n",
      "235/235 [==============================] - 33s 140ms/step - loss: 4.2155 - val_loss: 4.1141\n",
      "Epoch 15/60\n",
      "235/235 [==============================] - 33s 140ms/step - loss: 3.9024 - val_loss: 4.9401\n",
      "Epoch 16/60\n",
      "235/235 [==============================] - 33s 142ms/step - loss: 3.6442 - val_loss: 3.3873\n",
      "Epoch 17/60\n",
      "235/235 [==============================] - 33s 140ms/step - loss: 3.4318 - val_loss: 3.1547\n",
      "Epoch 18/60\n",
      "235/235 [==============================] - 33s 140ms/step - loss: 3.2424 - val_loss: 3.2229\n",
      "Epoch 19/60\n",
      "235/235 [==============================] - 33s 140ms/step - loss: 3.0910 - val_loss: 2.9291\n",
      "Epoch 20/60\n",
      "235/235 [==============================] - 33s 140ms/step - loss: 2.9588 - val_loss: 2.7872\n",
      "Epoch 21/60\n",
      "235/235 [==============================] - 33s 139ms/step - loss: 2.8488 - val_loss: 2.7057\n",
      "Epoch 22/60\n",
      "235/235 [==============================] - 33s 140ms/step - loss: 2.7370 - val_loss: 2.6093\n",
      "Epoch 23/60\n",
      "235/235 [==============================] - 33s 140ms/step - loss: 2.6307 - val_loss: 2.5493\n",
      "Epoch 24/60\n",
      "235/235 [==============================] - 33s 140ms/step - loss: 2.5477 - val_loss: 2.5308\n",
      "Epoch 25/60\n",
      "235/235 [==============================] - 33s 141ms/step - loss: 2.4621 - val_loss: 2.5733\n",
      "Epoch 26/60\n",
      "235/235 [==============================] - 33s 140ms/step - loss: 2.3921 - val_loss: 2.4195\n",
      "Epoch 27/60\n",
      "235/235 [==============================] - 33s 141ms/step - loss: 2.3123 - val_loss: 2.4052\n",
      "Epoch 28/60\n",
      "235/235 [==============================] - 33s 141ms/step - loss: 2.2461 - val_loss: 2.3032\n",
      "Epoch 29/60\n",
      "235/235 [==============================] - 33s 141ms/step - loss: 2.1858 - val_loss: 2.2989\n",
      "Epoch 30/60\n",
      "235/235 [==============================] - 33s 140ms/step - loss: 2.1516 - val_loss: 2.2131\n",
      "Epoch 31/60\n",
      "235/235 [==============================] - 33s 139ms/step - loss: 2.0897 - val_loss: 2.1867\n",
      "Epoch 32/60\n",
      "235/235 [==============================] - 33s 140ms/step - loss: 2.0337 - val_loss: 2.1719\n",
      "Epoch 33/60\n",
      "235/235 [==============================] - 33s 140ms/step - loss: 1.9749 - val_loss: 2.1414\n",
      "Epoch 34/60\n",
      "235/235 [==============================] - 33s 140ms/step - loss: 1.9304 - val_loss: 2.1795\n",
      "Epoch 35/60\n",
      "235/235 [==============================] - 33s 142ms/step - loss: 1.8888 - val_loss: 2.1216\n",
      "Epoch 36/60\n",
      "235/235 [==============================] - 33s 140ms/step - loss: 1.8534 - val_loss: 2.0632\n",
      "Epoch 37/60\n",
      "235/235 [==============================] - 33s 140ms/step - loss: 1.8099 - val_loss: 2.1332\n",
      "Epoch 38/60\n",
      "235/235 [==============================] - 33s 139ms/step - loss: 1.7720 - val_loss: 2.0590\n",
      "Epoch 39/60\n",
      "235/235 [==============================] - 33s 140ms/step - loss: 1.7261 - val_loss: 2.0806\n",
      "Epoch 40/60\n",
      "235/235 [==============================] - 33s 140ms/step - loss: 1.6997 - val_loss: 2.0152\n",
      "Epoch 41/60\n",
      "235/235 [==============================] - 33s 140ms/step - loss: 1.6579 - val_loss: 2.0401\n",
      "Epoch 42/60\n",
      "235/235 [==============================] - 33s 140ms/step - loss: 1.6227 - val_loss: 2.0516\n",
      "Epoch 43/60\n",
      "235/235 [==============================] - 33s 140ms/step - loss: 1.5850 - val_loss: 2.0452\n",
      "Epoch 44/60\n",
      "235/235 [==============================] - 33s 142ms/step - loss: 1.5638 - val_loss: 2.0296\n",
      "Epoch 45/60\n",
      "235/235 [==============================] - 33s 140ms/step - loss: 1.5265 - val_loss: 1.9952\n",
      "Epoch 46/60\n",
      "235/235 [==============================] - 33s 140ms/step - loss: 1.4910 - val_loss: 2.0092\n",
      "Epoch 47/60\n",
      "235/235 [==============================] - 33s 141ms/step - loss: 1.4600 - val_loss: 1.9947\n",
      "Epoch 48/60\n",
      "235/235 [==============================] - 33s 140ms/step - loss: 1.4406 - val_loss: 2.0240\n",
      "Epoch 49/60\n",
      "235/235 [==============================] - 33s 140ms/step - loss: 1.4122 - val_loss: 2.0025\n",
      "Epoch 50/60\n",
      "235/235 [==============================] - 33s 140ms/step - loss: 1.3757 - val_loss: 1.9895\n",
      "Epoch 51/60\n",
      "235/235 [==============================] - 33s 141ms/step - loss: 1.3512 - val_loss: 1.9949\n",
      "Epoch 52/60\n",
      "235/235 [==============================] - 33s 141ms/step - loss: 1.3081 - val_loss: 1.9796\n",
      "Epoch 53/60\n",
      "235/235 [==============================] - 33s 140ms/step - loss: 1.2932 - val_loss: 2.0128\n",
      "Epoch 54/60\n",
      "235/235 [==============================] - 33s 142ms/step - loss: 1.2676 - val_loss: 2.0010\n",
      "Epoch 55/60\n",
      "235/235 [==============================] - 33s 140ms/step - loss: 1.2263 - val_loss: 1.9864\n",
      "Epoch 56/60\n",
      "235/235 [==============================] - 33s 141ms/step - loss: 1.2081 - val_loss: 2.0070\n",
      "Epoch 57/60\n",
      "235/235 [==============================] - 33s 141ms/step - loss: 1.1868 - val_loss: 1.9905\n",
      "Epoch 58/60\n",
      "235/235 [==============================] - 33s 140ms/step - loss: 1.1525 - val_loss: 2.0165\n",
      "Epoch 59/60\n",
      "235/235 [==============================] - 33s 140ms/step - loss: 1.1328 - val_loss: 2.0509\n",
      "Epoch 60/60\n",
      "235/235 [==============================] - 33s 140ms/step - loss: 1.1006 - val_loss: 2.0267\n"
     ]
    }
   ],
   "source": [
    "with tf.device('/GPU:0'):\n",
    "    history = model_final.fit(x=[train_x, train_y, train_input_len, train_label_len], y=train_output, \n",
    "                          validation_data=([valid_x, valid_y, valid_input_len, valid_label_len], valid_output),\n",
    "                          epochs=60, batch_size=128)"
   ]
  },
  {
   "cell_type": "code",
   "execution_count": 30,
   "metadata": {
    "execution": {
     "iopub.execute_input": "2024-11-20T17:05:32.971574Z",
     "iopub.status.busy": "2024-11-20T17:05:32.970340Z",
     "iopub.status.idle": "2024-11-20T17:05:33.100634Z",
     "shell.execute_reply": "2024-11-20T17:05:33.100104Z",
     "shell.execute_reply.started": "2024-11-20T16:08:10.611942Z"
    },
    "papermill": {
     "duration": 3.064858,
     "end_time": "2024-11-20T17:05:33.100738",
     "exception": false,
     "start_time": "2024-11-20T17:05:30.035880",
     "status": "completed"
    },
    "tags": []
   },
   "outputs": [
    {
     "data": {
      "image/png": "[encoded data removed]",
      "text/plain": [
       "<Figure size 576x360 with 1 Axes>"
      ]
     },
     "metadata": {
      "needs_background": "light"
     },
     "output_type": "display_data"
    }
   ],
   "source": [
    "# Function to plot the training history\n",
    "def plot_training_history(history):\n",
    "    plt.figure(figsize=(8,5))\n",
    "\n",
    "    # Plot training & validation loss values\n",
    "    plt.plot(history.history['loss'])\n",
    "    plt.plot(history.history['val_loss'])\n",
    "    plt.title('Model loss')\n",
    "    plt.ylabel('Loss')\n",
    "    plt.xlabel('Epoch')\n",
    "    plt.legend(['Train', 'Validation'], loc='upper left')\n",
    "    plt.show()\n",
    "\n",
    "# Plot the training history\n",
    "plot_training_history(history)"
   ]
  },
  {
   "cell_type": "markdown",
   "metadata": {
    "papermill": {
     "duration": 2.925264,
     "end_time": "2024-11-20T17:05:38.950196",
     "exception": false,
     "start_time": "2024-11-20T17:05:36.024932",
     "status": "completed"
    },
    "tags": []
   },
   "source": [
    "# Model Performance"
   ]
  },
  {
   "cell_type": "code",
   "execution_count": 31,
   "metadata": {
    "execution": {
     "iopub.execute_input": "2024-11-20T17:05:44.784690Z",
     "iopub.status.busy": "2024-11-20T17:05:44.783703Z",
     "iopub.status.idle": "2024-11-20T17:05:47.891753Z",
     "shell.execute_reply": "2024-11-20T17:05:47.891165Z",
     "shell.execute_reply.started": "2024-11-20T16:08:10.749174Z"
    },
    "papermill": {
     "duration": 6.031413,
     "end_time": "2024-11-20T17:05:47.891858",
     "exception": false,
     "start_time": "2024-11-20T17:05:41.860445",
     "status": "completed"
    },
    "tags": []
   },
   "outputs": [],
   "source": [
    "preds = model.predict(valid_x)\n",
    "decoded = K.get_value(K.ctc_decode(preds, input_length=np.ones(preds.shape[0])*preds.shape[1], \n",
    "                                   greedy=True)[0][0])\n",
    "\n",
    "prediction = []\n",
    "for i in range(valid_size):\n",
    "    prediction.append(num_to_label(decoded[i]))"
   ]
  },
  {
   "cell_type": "code",
   "execution_count": 32,
   "metadata": {
    "execution": {
     "iopub.execute_input": "2024-11-20T17:05:53.756238Z",
     "iopub.status.busy": "2024-11-20T17:05:53.740565Z",
     "iopub.status.idle": "2024-11-20T17:05:53.759640Z",
     "shell.execute_reply": "2024-11-20T17:05:53.759214Z",
     "shell.execute_reply.started": "2024-11-20T16:08:13.878920Z"
    },
    "papermill": {
     "duration": 2.90927,
     "end_time": "2024-11-20T17:05:53.759735",
     "exception": false,
     "start_time": "2024-11-20T17:05:50.850465",
     "status": "completed"
    },
    "tags": []
   },
   "outputs": [
    {
     "name": "stdout",
     "output_type": "stream",
     "text": [
      "Correct characters predicted : 87.11%\n",
      "Correct words predicted      : 73.63%\n"
     ]
    }
   ],
   "source": [
    "y_true = valid.loc[0:valid_size, 'IDENTITY']\n",
    "correct_char = 0\n",
    "total_char = 0\n",
    "correct = 0\n",
    "\n",
    "for i in range(valid_size):\n",
    "    pr = prediction[i]\n",
    "    tr = y_true[i]\n",
    "    total_char += len(tr)\n",
    "    \n",
    "    for j in range(min(len(tr), len(pr))):\n",
    "        if tr[j] == pr[j]:\n",
    "            correct_char += 1\n",
    "            \n",
    "    if pr == tr :\n",
    "        correct += 1 \n",
    "    \n",
    "print('Correct characters predicted : %.2f%%' %(correct_char*100/total_char))\n",
    "print('Correct words predicted      : %.2f%%' %(correct*100/valid_size))"
   ]
  },
  {
   "cell_type": "code",
   "execution_count": 33,
   "metadata": {
    "execution": {
     "iopub.execute_input": "2024-11-20T17:05:59.673353Z",
     "iopub.status.busy": "2024-11-20T17:05:59.668704Z",
     "iopub.status.idle": "2024-11-20T17:05:59.755680Z",
     "shell.execute_reply": "2024-11-20T17:05:59.755173Z",
     "shell.execute_reply.started": "2024-11-20T16:08:13.905421Z"
    },
    "papermill": {
     "duration": 2.970492,
     "end_time": "2024-11-20T17:05:59.755777",
     "exception": false,
     "start_time": "2024-11-20T17:05:56.785285",
     "status": "completed"
    },
    "tags": []
   },
   "outputs": [
    {
     "data": {
      "image/png": "[encoded data removed]",
      "text/plain": [
       "<Figure size 576x432 with 1 Axes>"
      ]
     },
     "metadata": {
      "needs_background": "light"
     },
     "output_type": "display_data"
    }
   ],
   "source": [
    "# Calculate accuracy based on character and word level\n",
    "correct_char_percent = correct_char * 100 / total_char\n",
    "correct_word_percent = correct * 100 / valid_size\n",
    "\n",
    "# Plotting the accuracy with custom colors\n",
    "plt.figure(figsize=(8, 6))\n",
    "plt.bar(['Character Accuracy', 'Word Accuracy'], \n",
    "        [correct_char_percent, correct_word_percent], \n",
    "        color=['skyblue', 'lightgreen'])  # Ganti warna batang di sini\n",
    "plt.ylim(0, 100)\n",
    "plt.title('Model Accuracy Evaluation')\n",
    "plt.ylabel('Accuracy (%)')\n",
    "plt.show()"
   ]
  },
  {
   "cell_type": "markdown",
   "metadata": {
    "papermill": {
     "duration": 2.928443,
     "end_time": "2024-11-20T17:06:05.627856",
     "exception": false,
     "start_time": "2024-11-20T17:06:02.699413",
     "status": "completed"
    },
    "tags": []
   },
   "source": [
    "# Character Error Rate (CER) + Word Error Rate (WER)\n",
    "\n",
    "- **CER** → measures the percentage of character errors in the predictions compared to the ground truth labels.  \n",
    "- **WER** → measures the percentage of word errors in the predictions compared to the ground truth labels, including differences in word order and misrecognized words.\n",
    "\n",
    "The smaller the **CER** and **WER** values, the better the model's performance in recognizing handwriting.\n"
   ]
  },
  {
   "cell_type": "code",
   "execution_count": 34,
   "metadata": {
    "execution": {
     "iopub.execute_input": "2024-11-20T17:06:11.497408Z",
     "iopub.status.busy": "2024-11-20T17:06:11.492413Z",
     "iopub.status.idle": "2024-11-20T17:06:11.570081Z",
     "shell.execute_reply": "2024-11-20T17:06:11.569652Z",
     "shell.execute_reply.started": "2024-11-20T16:08:14.009009Z"
    },
    "papermill": {
     "duration": 3.057547,
     "end_time": "2024-11-20T17:06:11.570187",
     "exception": false,
     "start_time": "2024-11-20T17:06:08.512640",
     "status": "completed"
    },
    "tags": []
   },
   "outputs": [
    {
     "name": "stdout",
     "output_type": "stream",
     "text": [
      "Character Error Rate (CER): 7.66%\n",
      "Word Error Rate (WER): 26.89%\n"
     ]
    }
   ],
   "source": [
    "def calculate_cer(gt_texts, pred_texts):\n",
    "    \"\"\"\n",
    "    Calculate the Character Error Rate (CER) between ground truth texts and predicted texts.\n",
    "    \"\"\"\n",
    "    total_errors = 0\n",
    "    total_chars = 0\n",
    "    \n",
    "    for gt, pred in zip(gt_texts, pred_texts):\n",
    "        total_errors += edit_distance(gt, pred)\n",
    "        total_chars += len(gt)\n",
    "    \n",
    "    cer = total_errors / total_chars\n",
    "    return cer\n",
    "\n",
    "def calculate_wer(gt_texts, pred_texts):\n",
    "    \"\"\"\n",
    "    Calculate the Word Error Rate (WER) between ground truth texts and predicted texts.\n",
    "    \"\"\"\n",
    "    total_errors = 0\n",
    "    total_words = 0\n",
    "    \n",
    "    for gt, pred in zip(gt_texts, pred_texts):\n",
    "        total_errors += edit_distance(gt.split(), pred.split())\n",
    "        total_words += len(gt.split())\n",
    "    \n",
    "    wer = total_errors / total_words\n",
    "    return wer\n",
    "\n",
    "def edit_distance(s1, s2):\n",
    "    \"\"\"\n",
    "    Calculate the Levenshtein distance between two strings.\n",
    "    \"\"\"\n",
    "    if len(s1) < len(s2):\n",
    "        return edit_distance(s2, s1)\n",
    "\n",
    "    if len(s2) == 0:\n",
    "        return len(s1)\n",
    "\n",
    "    previous_row = range(len(s2) + 1)\n",
    "    for i, c1 in enumerate(s1):\n",
    "        current_row = [i + 1]\n",
    "        for j, c2 in enumerate(s2):\n",
    "            insertions = previous_row[j + 1] + 1\n",
    "            deletions = current_row[j] + 1\n",
    "            substitutions = previous_row[j] + (c1 != c2)\n",
    "            current_row.append(min(insertions, deletions, substitutions))\n",
    "        previous_row = current_row\n",
    "    \n",
    "    return previous_row[-1]\n",
    "\n",
    "ground_truths = valid.loc[:valid_size, 'IDENTITY'].tolist()\n",
    "predictions = prediction\n",
    "\n",
    "cer = calculate_cer(ground_truths, predictions)\n",
    "wer = calculate_wer(ground_truths, predictions)\n",
    "\n",
    "print('Character Error Rate (CER): {:.2f}%'.format(cer * 100))\n",
    "print('Word Error Rate (WER): {:.2f}%'.format(wer * 100))"
   ]
  },
  {
   "cell_type": "code",
   "execution_count": 35,
   "metadata": {
    "execution": {
     "iopub.execute_input": "2024-11-20T17:06:17.389757Z",
     "iopub.status.busy": "2024-11-20T17:06:17.386238Z",
     "iopub.status.idle": "2024-11-20T17:06:17.491894Z",
     "shell.execute_reply": "2024-11-20T17:06:17.491486Z",
     "shell.execute_reply.started": "2024-11-20T16:08:14.103402Z"
    },
    "papermill": {
     "duration": 2.999557,
     "end_time": "2024-11-20T17:06:17.492007",
     "exception": false,
     "start_time": "2024-11-20T17:06:14.492450",
     "status": "completed"
    },
    "tags": []
   },
   "outputs": [
    {
     "data": {
      "image/png": "[encoded data removed]",
      "text/plain": [
       "<Figure size 576x432 with 1 Axes>"
      ]
     },
     "metadata": {
      "needs_background": "light"
     },
     "output_type": "display_data"
    }
   ],
   "source": [
    "cer_values = [cer]  # CER value\n",
    "wer_values = [wer]  # WER value\n",
    "labels = ['CER', 'WER']\n",
    "\n",
    "# Plotting\n",
    "plt.figure(figsize=(8, 6))\n",
    "plt.bar(labels, [cer * 100, wer * 100], color=['blue', 'green'])\n",
    "plt.ylim(0, 100)  # Set y-axis limit from 0% to 100%\n",
    "plt.ylabel('Error Rate (%)')\n",
    "plt.title('Character Error Rate (CER) vs Word Error Rate (WER)')\n",
    "plt.xticks(rotation=45)\n",
    "plt.grid(axis='y', linestyle='--', alpha=0.7)\n",
    "for i, v in enumerate([cer * 100, wer * 100]):\n",
    "    plt.text(i, v + 2, f'{v:.2f}%', ha='center', va='bottom', fontsize=10, fontweight='bold')\n",
    "plt.show()"
   ]
  },
  {
   "cell_type": "markdown",
   "metadata": {
    "papermill": {
     "duration": 2.968853,
     "end_time": "2024-11-20T17:06:23.380200",
     "exception": false,
     "start_time": "2024-11-20T17:06:20.411347",
     "status": "completed"
    },
    "tags": []
   },
   "source": [
    "# Model Testing"
   ]
  },
  {
   "cell_type": "code",
   "execution_count": 36,
   "metadata": {
    "execution": {
     "iopub.execute_input": "2024-11-20T17:06:29.359134Z",
     "iopub.status.busy": "2024-11-20T17:06:29.358599Z",
     "iopub.status.idle": "2024-11-20T17:06:30.000189Z",
     "shell.execute_reply": "2024-11-20T17:06:30.000597Z",
     "shell.execute_reply.started": "2024-11-20T16:24:28.514708Z"
    },
    "papermill": {
     "duration": 3.594847,
     "end_time": "2024-11-20T17:06:30.000723",
     "exception": false,
     "start_time": "2024-11-20T17:06:26.405876",
     "status": "completed"
    },
    "tags": []
   },
   "outputs": [
    {
     "data": {
      "image/png": "[encoded data removed]",
      "text/plain": [
       "<Figure size 1080x720 with 6 Axes>"
      ]
     },
     "metadata": {
      "needs_background": "light"
     },
     "output_type": "display_data"
    }
   ],
   "source": [
    "test = pd.read_csv('/kaggle/input/handwriting-recognition/written_name_test_v2.csv')\n",
    "\n",
    "plt.figure(figsize=(15, 10))\n",
    "for i in range(100,106):\n",
    "    ax = plt.subplot(2, 3, i - 100 + 1)\n",
    "    img_dir = '/kaggle/input/handwriting-recognition/test_v2/test/'+test.loc[i, 'FILENAME']\n",
    "    image = cv2.imread(img_dir, cv2.IMREAD_GRAYSCALE)\n",
    "    plt.imshow(image, cmap='gray')\n",
    "    \n",
    "    image = preprocess(image)\n",
    "    image = image/255.\n",
    "    pred = model.predict(image.reshape(1, 256, 64, 1))\n",
    "    decoded = K.get_value(K.ctc_decode(pred, input_length=np.ones(pred.shape[0])*pred.shape[1], \n",
    "                                       greedy=True)[0][0])\n",
    "    plt.title(num_to_label(decoded[0]), fontsize=12)\n",
    "    plt.axis('off')\n",
    "    \n",
    "plt.subplots_adjust(wspace=0.2, hspace=-0.8)"
   ]
  },
  {
   "cell_type": "code",
   "execution_count": 37,
   "metadata": {
    "execution": {
     "iopub.execute_input": "2024-11-20T17:06:35.859004Z",
     "iopub.status.busy": "2024-11-20T17:06:35.858477Z",
     "iopub.status.idle": "2024-11-20T17:06:35.970689Z",
     "shell.execute_reply": "2024-11-20T17:06:35.971102Z",
     "shell.execute_reply.started": "2024-11-20T16:24:46.886854Z"
    },
    "papermill": {
     "duration": 3.051375,
     "end_time": "2024-11-20T17:06:35.971252",
     "exception": false,
     "start_time": "2024-11-20T17:06:32.919877",
     "status": "completed"
    },
    "tags": []
   },
   "outputs": [
    {
     "data": {
      "text/plain": [
       "<matplotlib.image.AxesImage at 0x7dfc883c2990>"
      ]
     },
     "execution_count": 37,
     "metadata": {},
     "output_type": "execute_result"
    },
    {
     "data": {
      "image/png": "[encoded data removed]",
      "text/plain": [
       "<Figure size 432x288 with 1 Axes>"
      ]
     },
     "metadata": {
      "needs_background": "light"
     },
     "output_type": "display_data"
    }
   ],
   "source": [
    "im = cv2.imread('/kaggle/input/handwriting-recognition/test_v2/test/TEST_0020.jpg', cv2.IMREAD_GRAYSCALE)\n",
    "im = preprocess(im)\n",
    "plt.imshow(image, cmap='gray')\n"
   ]
  },
  {
   "cell_type": "code",
   "execution_count": 38,
   "metadata": {
    "execution": {
     "iopub.execute_input": "2024-11-20T17:06:41.836256Z",
     "iopub.status.busy": "2024-11-20T17:06:41.835712Z",
     "iopub.status.idle": "2024-11-20T17:06:41.878813Z",
     "shell.execute_reply": "2024-11-20T17:06:41.878313Z",
     "shell.execute_reply.started": "2024-11-20T16:25:40.660258Z"
    },
    "papermill": {
     "duration": 3.006437,
     "end_time": "2024-11-20T17:06:41.878908",
     "exception": false,
     "start_time": "2024-11-20T17:06:38.872471",
     "status": "completed"
    },
    "tags": []
   },
   "outputs": [
    {
     "data": {
      "text/plain": [
       "'VERDEAUX'"
      ]
     },
     "execution_count": 38,
     "metadata": {},
     "output_type": "execute_result"
    }
   ],
   "source": [
    "pred = model.predict(image.reshape(1, 256, 64, 1))\n",
    "decoded = K.get_value(K.ctc_decode(pred, input_length=np.ones(pred.shape[0])*pred.shape[1], \n",
    "                                       greedy=True)[0][0])\n",
    "num_to_label(decoded[0])"
   ]
  },
  {
   "cell_type": "markdown",
   "metadata": {
    "papermill": {
     "duration": 2.88506,
     "end_time": "2024-11-20T17:06:47.720727",
     "exception": false,
     "start_time": "2024-11-20T17:06:44.835667",
     "status": "completed"
    },
    "tags": []
   },
   "source": [
    "# Save model"
   ]
  },
  {
   "cell_type": "code",
   "execution_count": 39,
   "metadata": {
    "execution": {
     "iopub.execute_input": "2024-11-20T17:06:53.573101Z",
     "iopub.status.busy": "2024-11-20T17:06:53.572539Z",
     "iopub.status.idle": "2024-11-20T17:06:53.681657Z",
     "shell.execute_reply": "2024-11-20T17:06:53.681080Z",
     "shell.execute_reply.started": "2024-11-20T16:08:14.759834Z"
    },
    "papermill": {
     "duration": 3.033426,
     "end_time": "2024-11-20T17:06:53.681761",
     "exception": false,
     "start_time": "2024-11-20T17:06:50.648335",
     "status": "completed"
    },
    "tags": []
   },
   "outputs": [],
   "source": [
    "model_final.save('best_model.h5')"
   ]
  },
  {
   "cell_type": "markdown",
   "metadata": {},
   "source": [
    "# Inference Code"
   ]
  },
  {
   "cell_type": "code",
   "execution_count": null,
   "metadata": {},
   "outputs": [],
   "source": [
    "model.load_weights(\"/kaggle/input/weights/best_model.h5\")\n",
    "print(\"✅ Weights loaded successfully!\")\n"
   ]
  },
  {
   "cell_type": "code",
   "execution_count": null,
   "metadata": {},
   "outputs": [],
   "source": [
    "# Step 1: Define your inference model exactly as before\n",
    "input_data = Input(shape=(256, 64, 1), name='input')\n",
    "\n",
    "# CNN blocks\n",
    "inner = Conv2D(32, (3, 3), padding='same', kernel_initializer='he_normal')(input_data)\n",
    "inner = BatchNormalization()(inner)\n",
    "inner = Activation('relu')(inner)\n",
    "inner = MaxPooling2D(pool_size=(2, 2))(inner)\n",
    "\n",
    "inner = Conv2D(64, (3, 3), padding='same', kernel_initializer='he_normal')(inner)\n",
    "inner = BatchNormalization()(inner)\n",
    "inner = Activation('relu')(inner)\n",
    "inner = MaxPooling2D(pool_size=(2, 2))(inner)\n",
    "inner = Dropout(0.3)(inner)\n",
    "\n",
    "inner = Conv2D(128, (3, 3), padding='same', kernel_initializer='he_normal')(inner)\n",
    "inner = BatchNormalization()(inner)\n",
    "inner = Activation('relu')(inner)\n",
    "inner = MaxPooling2D(pool_size=(1, 2))(inner)\n",
    "inner = Dropout(0.3)(inner)\n",
    "\n",
    "inner = Reshape(target_shape=((64, 1024)))(inner)\n",
    "inner = Dense(64, activation='relu', kernel_initializer='he_normal')(inner)\n",
    "\n",
    "inner = Bidirectional(LSTM(256, return_sequences=True))(inner)\n",
    "inner = Bidirectional(LSTM(256, return_sequences=True))(inner)\n",
    "\n",
    "inner = Dense(num_of_characters, kernel_initializer='he_normal')(inner)\n",
    "y_pred = Activation('softmax')(inner)\n",
    "\n",
    "model = Model(inputs=input_data, outputs=y_pred)\n",
    "\n",
    "# Step 2: Load weights (NOT full model)\n",
    "model.load_weights(\"/kaggle/input/weights/best_model.h5\")\n",
    "print(\"✅ Weights loaded into inference model\")\n"
   ]
  },
  {
   "cell_type": "code",
   "execution_count": null,
   "metadata": {},
   "outputs": [],
   "source": [
    "for i, layer in enumerate(model.layers):\n",
    "    print(i, layer.name, layer.output_shape)\n"
   ]
  },
  {
   "cell_type": "code",
   "execution_count": null,
   "metadata": {},
   "outputs": [],
   "source": [
    "'''\n",
    "0 input [(None, 256, 64, 1)]\n",
    "1 conv2d_3 (None, 256, 64, 32)\n",
    "2 batch_normalization_3 (None, 256, 64, 32)\n",
    "3 activation_3 (None, 256, 64, 32)\n",
    "4 max_pooling2d_3 (None, 128, 32, 32)\n",
    "5 conv2d_4 (None, 128, 32, 64)\n",
    "6 batch_normalization_4 (None, 128, 32, 64)\n",
    "7 activation_4 (None, 128, 32, 64)\n",
    "8 max_pooling2d_4 (None, 64, 16, 64)\n",
    "9 dropout_2 (None, 64, 16, 64)\n",
    "10 conv2d_5 (None, 64, 16, 128)\n",
    "11 batch_normalization_5 (None, 64, 16, 128)\n",
    "12 activation_5 (None, 64, 16, 128)\n",
    "13 max_pooling2d_5 (None, 64, 8, 128)\n",
    "14 dropout_3 (None, 64, 8, 128)\n",
    "15 reshape_1 (None, 64, 1024)\n",
    "16 dense_1 (None, 64, 64)\n",
    "17 bidirectional_2 (None, 64, 512)\n",
    "18 bidirectional_3 (None, 64, 512)\n",
    "19 dense_2 (None, 64, 30)\n",
    "20 activation_6 (None, 64, 30)\n",
    "\n",
    "'''"
   ]
  },
  {
   "cell_type": "markdown",
   "metadata": {},
   "source": []
  }
 ],
 "metadata": {
  "kaggle": {
   "accelerator": "gpu",
   "dataSources": [
    {
     "datasetId": 818027,
     "sourceId": 1400106,
     "sourceType": "datasetVersion"
    },
    {
     "datasetId": 1094263,
     "sourceId": 1840441,
     "sourceType": "datasetVersion"
    }
   ],
   "dockerImageVersionId": 29994,
   "isGpuEnabled": true,
   "isInternetEnabled": false,
   "language": "python",
   "sourceType": "notebook"
  },
  "kernelspec": {
   "display_name": "Python 3",
   "language": "python",
   "name": "python3"
  },
  "language_info": {
   "codemirror_mode": {
    "name": "ipython",
    "version": 3
   },
   "file_extension": ".py",
   "mimetype": "text/x-python",
   "name": "python",
   "nbconvert_exporter": "python",
   "pygments_lexer": "ipython3",
   "version": "3.7.6"
  },
  "papermill": {
   "duration": 2445.254024,
   "end_time": "2024-11-20T17:06:57.321805",
   "environment_variables": {},
   "exception": null,
   "input_path": "__notebook__.ipynb",
   "output_path": "__notebook__.ipynb",
   "parameters": {},
   "start_time": "2024-11-20T16:26:12.067781",
   "version": "2.1.0"
  }
 },
 "nbformat": 4,
 "nbformat_minor": 4
}
